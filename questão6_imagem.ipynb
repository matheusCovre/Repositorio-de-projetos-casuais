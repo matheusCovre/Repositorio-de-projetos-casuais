{
 "cells": [
  {
   "cell_type": "code",
   "execution_count": 33,
   "id": "a3b9b897-6709-493d-a24b-80d26282a571",
   "metadata": {},
   "outputs": [],
   "source": [
    "import cv2\n",
    "import numpy as np\n",
    "\n",
    "# Carregar a imagem\n",
    "image_path = \"Homem_passando.png\"  # Substitua pelo caminho correto da imagem\n",
    "image = cv2.imread(image_path)\n",
    "\n",
    "\n",
    "gray_image = cv2.cvtColor(image, cv2.COLOR_BGR2GRAY)\n",
    "\n",
    "\n",
    "_, binary_image = cv2.threshold(gray_image, 127, 255, cv2.THRESH_BINARY)\n",
    "\n",
    "\n",
    "contours, _ = cv2.findContours(binary_image, cv2.RETR_EXTERNAL, cv2.CHAIN_APPROX_SIMPLE)\n",
    "\n",
    "\n",
    "contours = sorted(contours, key=cv2.contourArea, reverse=True)\n",
    "main_contour = contours[0]  \n",
    "\n",
    "\n",
    "person_mask = np.zeros_like(gray_image)\n",
    "cv2.drawContours(person_mask, [main_contour], -1, 255, thickness=cv2.FILLED)\n",
    "\n",
    "\n",
    "result = cv2.inpaint(image, person_mask, inpaintRadius=7, flags=cv2.INPAINT_TELEA)\n",
    "\n",
    "cv2.imwrite(\"imagem_sem_pessoa.png\", result)  # Salvar a imagem\n",
    "cv2.imshow(\"Imagem com Pessoa Removida\", result)  # Mostrar a imagem\n",
    "cv2.waitKey(0)\n",
    "cv2.destroyAllWindows()\n"
   ]
  }
 ],
 "metadata": {
  "kernelspec": {
   "display_name": "Python 3 (ipykernel)",
   "language": "python",
   "name": "python3"
  },
  "language_info": {
   "codemirror_mode": {
    "name": "ipython",
    "version": 3
   },
   "file_extension": ".py",
   "mimetype": "text/x-python",
   "name": "python",
   "nbconvert_exporter": "python",
   "pygments_lexer": "ipython3",
   "version": "3.11.7"
  }
 },
 "nbformat": 4,
 "nbformat_minor": 5
}
