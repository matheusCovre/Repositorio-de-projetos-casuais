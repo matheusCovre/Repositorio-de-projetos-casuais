{
 "cells": [
  {
   "cell_type": "code",
   "execution_count": 2,
   "id": "21c62dd6-f045-4bd7-87c1-226ce1cb848c",
   "metadata": {},
   "outputs": [],
   "source": [
    "import cv2\n",
    "import numpy as np\n",
    "\n",
    "# Carregar a imagem original\n",
    "image = cv2.imread(\"imagem1.png\")\n",
    "if image is None:\n",
    "    print(\"Erro ao carregar a imagem. Verifique o caminho e tente novamente.\")\n",
    "    exit()\n",
    "\n",
    "# Obter as dimensões da imagem\n",
    "height, width = image.shape[:2]\n",
    "\n",
    "# Criar um gradiente horizontal (de 255 a 0)\n",
    "gradient = np.tile(np.linspace(255, 0, width, dtype=np.uint8), (height, 1))\n",
    "\n",
    "# Se a imagem for colorida, expandir o gradiente para 3 canais (BGR)\n",
    "if len(image.shape) == 3:  # Imagem colorida\n",
    "    gradient = cv2.merge([gradient, gradient, gradient])\n",
    "\n",
    "# Combinar a imagem com o gradiente\n",
    "result = cv2.addWeighted(image, 1, gradient, 0.5, 0)  # Ajuste o peso do gradiente conforme necessário\n",
    "\n",
    "# Salvar e exibir a imagem resultante\n",
    "cv2.imwrite(\"imagem_com_gradiente.png\", result)\n",
    "cv2.imshow(\"Resultado\", result)\n",
    "cv2.waitKey(0)\n",
    "cv2.destroyAllWindows()\n"
   ]
  }
 ],
 "metadata": {
  "kernelspec": {
   "display_name": "Python 3 (ipykernel)",
   "language": "python",
   "name": "python3"
  },
  "language_info": {
   "codemirror_mode": {
    "name": "ipython",
    "version": 3
   },
   "file_extension": ".py",
   "mimetype": "text/x-python",
   "name": "python",
   "nbconvert_exporter": "python",
   "pygments_lexer": "ipython3",
   "version": "3.11.7"
  }
 },
 "nbformat": 4,
 "nbformat_minor": 5
}
