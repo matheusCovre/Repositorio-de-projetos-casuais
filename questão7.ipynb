{
 "cells": [
  {
   "cell_type": "code",
   "execution_count": 2,
   "id": "a85163c3-f347-42b6-84e2-52ccdf41ad32",
   "metadata": {},
   "outputs": [
    {
     "name": "stdout",
     "output_type": "stream",
     "text": [
      "Quantidade de porcas encontradas: 7\n",
      "Área da maior porca: 18638.50\n",
      "Área da menor porca: 394.00\n",
      "Tamanho médio da área das porcas: 13729.17\n"
     ]
    }
   ],
   "source": [
    "import cv2\n",
    "import numpy as np\n",
    "\n",
    "\n",
    "def calculate_circularity(contour):\n",
    "    area = cv2.contourArea(contour)\n",
    "    perimeter = cv2.arcLength(contour, True)\n",
    "    if perimeter == 0:\n",
    "        return 0\n",
    "    circularity = 4 * np.pi * area / (perimeter ** 2)\n",
    "    return circularity\n",
    "\n",
    "\n",
    "image = cv2.imread(\"porca-parafuso.png\")\n",
    "if image is None:\n",
    "    print(\"Erro ao carregar a imagem. Verifique o caminho.\")\n",
    "    exit()\n",
    "\n",
    "\n",
    "gray_image = cv2.cvtColor(image, cv2.COLOR_BGR2GRAY)\n",
    "\n",
    "blurred_image = cv2.GaussianBlur(gray_image, (5, 5), 0)\n",
    "\n",
    "edges = cv2.Canny(blurred_image, 50, 150)\n",
    "\n",
    "\n",
    "contours, _ = cv2.findContours(edges, cv2.RETR_EXTERNAL, cv2.CHAIN_APPROX_SIMPLE)\n",
    "contours = [cnt for cnt in contours if cv2.contourArea(cnt) > 100]  \n",
    "output_image = image.copy()\n",
    "areas = []\n",
    "circularities = []\n",
    "\n",
    "for cnt in contours:\n",
    "    \n",
    "    circularity = calculate_circularity(cnt)\n",
    "    \n",
    "    if circularity > 0.6:\n",
    "        cv2.drawContours(output_image, [cnt], -1, (0, 255, 0), 2)  \n",
    "    else:\n",
    "        cv2.drawContours(output_image, [cnt], -1, (0, 0, 255), 2)  \n",
    "    \n",
    "   \n",
    "    areas.append(cv2.contourArea(cnt))\n",
    "    circularities.append(circularity)\n",
    "\n",
    "num_nuts = len([c for c in circularities if c > 0.5])  \n",
    "max_area = max(areas) if areas else 0\n",
    "min_area = min(areas) if areas else 0\n",
    "avg_area = np.mean(areas) if areas else 0\n",
    "\n",
    "\n",
    "print(f\"Quantidade de porcas encontradas: {num_nuts}\")\n",
    "print(f\"Área da maior porca: {max_area:.2f}\")\n",
    "print(f\"Área da menor porca: {min_area:.2f}\")\n",
    "print(f\"Tamanho médio da área das porcas: {avg_area:.2f}\")\n",
    "\n",
    "\n",
    "cv2.imshow(\"Contornos das Porcas e Parafusos\", output_image)\n",
    "\n",
    "cv2.imwrite(\"contornos_porcas_parafusos.png\", output_image)\n",
    "\n",
    "cv2.waitKey(0)\n",
    "cv2.destroyAllWindows()\n"
   ]
  },
  {
   "cell_type": "code",
   "execution_count": null,
   "id": "2b503a53-0d3c-481c-9a0d-4684249a7771",
   "metadata": {},
   "outputs": [],
   "source": []
  }
 ],
 "metadata": {
  "kernelspec": {
   "display_name": "Python 3 (ipykernel)",
   "language": "python",
   "name": "python3"
  },
  "language_info": {
   "codemirror_mode": {
    "name": "ipython",
    "version": 3
   },
   "file_extension": ".py",
   "mimetype": "text/x-python",
   "name": "python",
   "nbconvert_exporter": "python",
   "pygments_lexer": "ipython3",
   "version": "3.11.7"
  }
 },
 "nbformat": 4,
 "nbformat_minor": 5
}
