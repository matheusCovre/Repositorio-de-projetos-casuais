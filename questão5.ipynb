{
 "cells": [
  {
   "cell_type": "code",
   "execution_count": 1,
   "id": "27e755a0-b5a5-4160-82d1-435e5f6e1995",
   "metadata": {},
   "outputs": [],
   "source": [
    "import cv2\n",
    "\n",
    "point1 = None\n",
    "point2 = None\n",
    "drawing = False\n",
    "\n",
    "def draw_line(event, x, y, flags, param):\n",
    "    global point1, point2, drawing, image_copy\n",
    "\n",
    "    if event == cv2.EVENT_LBUTTONDOWN:  \n",
    "        if not drawing:\n",
    "            point1 = (x, y)\n",
    "            drawing = True\n",
    "        else:  # Segundo clique\n",
    "            point2 = (x, y)\n",
    "            cv2.line(image_copy, point1, point2, (0, 255, 0), 2) \n",
    "            cv2.imshow(\"Imagem com Reta\", image_copy)\n",
    "            drawing = False  \n",
    "\n",
    "image = cv2.imread(\"imagem1.png\") \n",
    "if image is None:\n",
    "    print(\"Erro ao carregar a imagem. Verifique o caminho.\")\n",
    "    exit()\n",
    "\n",
    "\n",
    "image_copy = image.copy()\n",
    "\n",
    "\n",
    "cv2.namedWindow(\"Imagem com Reta\")\n",
    "cv2.setMouseCallback(\"Imagem com Reta\", draw_line)\n",
    "\n",
    "\n",
    "cv2.imshow(\"Imagem com Reta\", image)\n",
    "\n",
    "\n",
    "cv2.waitKey(0)\n",
    "cv2.destroyAllWindows()\n"
   ]
  }
 ],
 "metadata": {
  "kernelspec": {
   "display_name": "Python 3 (ipykernel)",
   "language": "python",
   "name": "python3"
  },
  "language_info": {
   "codemirror_mode": {
    "name": "ipython",
    "version": 3
   },
   "file_extension": ".py",
   "mimetype": "text/x-python",
   "name": "python",
   "nbconvert_exporter": "python",
   "pygments_lexer": "ipython3",
   "version": "3.11.7"
  }
 },
 "nbformat": 4,
 "nbformat_minor": 5
}
