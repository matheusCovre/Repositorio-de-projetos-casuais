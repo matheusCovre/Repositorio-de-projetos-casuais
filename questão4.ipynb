{
 "cells": [
  {
   "cell_type": "code",
   "execution_count": 5,
   "id": "11a17d26-0b89-4258-ae97-a858cb011aa6",
   "metadata": {},
   "outputs": [],
   "source": [
    "import cv2\n",
    "import numpy as np\n",
    "\n",
    "def update_intensity(val):\n",
    "    percentage = val / 100.0  # Converte o valor da barra de 0-100 para 0.0-1.0\n",
    "    adjusted_image = cv2.convertScaleAbs(image, alpha=percentage, beta=0)  # Ajusta a intensidade\n",
    "    cv2.imshow(\"Ajuste de Intensidade\", adjusted_image)  # Exibe a imagem ajustada\n",
    "\n",
    "# Carrega a imagem em escala de cinza\n",
    "image = cv2.imread(\"imagem1.png\")\n",
    "if image is None:\n",
    "    print(\"Erro ao carregar a imagem. Verifique o caminho e tente novamente.\")\n",
    "    exit()\n",
    "\n",
    "# Cria uma janela e uma barra de rolagem para ajustar a intensidade\n",
    "cv2.namedWindow(\"Ajuste de Intensidade\")\n",
    "cv2.createTrackbar(\"Intensidade (%)\", \"Ajuste de Intensidade\", 0, 100, update_intensity)\n",
    "\n",
    "# Inicia o valor da intensidade em 100% para exibir a imagem original\n",
    "update_intensity(100)\n",
    "\n",
    "cv2.waitKey(0)\n",
    "cv2.destroyAllWindows()\n"
   ]
  }
 ],
 "metadata": {
  "kernelspec": {
   "display_name": "Python 3 (ipykernel)",
   "language": "python",
   "name": "python3"
  },
  "language_info": {
   "codemirror_mode": {
    "name": "ipython",
    "version": 3
   },
   "file_extension": ".py",
   "mimetype": "text/x-python",
   "name": "python",
   "nbconvert_exporter": "python",
   "pygments_lexer": "ipython3",
   "version": "3.11.7"
  }
 },
 "nbformat": 4,
 "nbformat_minor": 5
}
