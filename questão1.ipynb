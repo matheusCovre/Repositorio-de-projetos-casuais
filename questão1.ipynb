{
 "cells": [
  {
   "cell_type": "code",
   "execution_count": 4,
   "id": "46c199ed-ce1c-45ea-8663-52c24c54780f",
   "metadata": {},
   "outputs": [],
   "source": [
    "import cv2\n",
    "import numpy as np\n",
    "\n",
    "width, height = 512, 512\n",
    "\n",
    "y = np.linspace(0, 255, height // 2, dtype=np.uint8)\n",
    "gradient_half = np.concatenate((y, y[::-1]))  \n",
    "gradient = np.tile(gradient_half[:, np.newaxis], (1, width))  \n",
    "\n",
    "gradient_image = cv2.merge([gradient, gradient, gradient])\n",
    "\n",
    "cv2.imwrite(\"gradient_center_vertical_cv2.png\", gradient_image)\n",
    "gradient_image_bgr = cv2.cvtColor(gradient_image, cv2.COLOR_RGB2BGR)\n",
    "cv2.imshow(\"Gradient Vertical Center\", gradient_image_bgr)\n",
    "cv2.waitKey(0)\n",
    "cv2.destroyAllWindows() "
   ]
  },
  {
   "cell_type": "code",
   "execution_count": null,
   "id": "1889b219-92fa-467b-803d-e2bc48429b3a",
   "metadata": {},
   "outputs": [],
   "source": []
  },
  {
   "cell_type": "code",
   "execution_count": null,
   "id": "054cc84f-2a63-4bbb-88e2-3cdd11d4568b",
   "metadata": {},
   "outputs": [],
   "source": []
  }
 ],
 "metadata": {
  "kernelspec": {
   "display_name": "Python 3 (ipykernel)",
   "language": "python",
   "name": "python3"
  },
  "language_info": {
   "codemirror_mode": {
    "name": "ipython",
    "version": 3
   },
   "file_extension": ".py",
   "mimetype": "text/x-python",
   "name": "python",
   "nbconvert_exporter": "python",
   "pygments_lexer": "ipython3",
   "version": "3.11.7"
  }
 },
 "nbformat": 4,
 "nbformat_minor": 5
}
